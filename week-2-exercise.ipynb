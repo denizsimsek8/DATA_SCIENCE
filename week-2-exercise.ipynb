{
 "cells": [
  {
   "cell_type": "markdown",
   "metadata": {},
   "source": [
    "Use and experience methods from previous lessons with given data. Try to search for other pandas methods to analyze the data such as groupby() and read_csv()."
   ]
  },
  {
   "cell_type": "markdown",
   "metadata": {},
   "source": [
    "# You can find covid related data under project's data folder \n",
    "base_url = \"../data/covid/\"\n",
    "infected_dataset_url = base_url + \"time_series_covid19_confirmed_global.csv\"\n",
    "recovered_dataset_url = base_url + \"time_series_covid19_recovered_global.csv\"\n",
    "deaths_dataset_url = base_url + \"time_series_covid19_deaths_global.csv\""
   ]
  },
  {
   "cell_type": "code",
   "execution_count": 23,
   "metadata": {},
   "outputs": [],
   "source": [
    "import pandas as pd\n"
   ]
  },
  {
   "cell_type": "code",
   "execution_count": 24,
   "metadata": {},
   "outputs": [],
   "source": [
    "num_of_case = pd.Series([6172812, 3764419, 4320530, 1096799, 5722298, 5999244, 4342054, 136097, 2249344, 720353])"
   ]
  },
  {
   "cell_type": "code",
   "execution_count": 25,
   "metadata": {},
   "outputs": [
    {
     "data": {
      "text/plain": [
       "0    6172812\n",
       "1    3764419\n",
       "2    4320530\n",
       "3    1096799\n",
       "4    5722298\n",
       "5    5999244\n",
       "6    4342054\n",
       "7     136097\n",
       "8    2249344\n",
       "9     720353\n",
       "dtype: int64"
      ]
     },
     "execution_count": 25,
     "metadata": {},
     "output_type": "execute_result"
    }
   ],
   "source": [
    "num_of_case"
   ]
  },
  {
   "cell_type": "code",
   "execution_count": 26,
   "metadata": {},
   "outputs": [],
   "source": [
    "num_of_case.name = \"Number of Case\""
   ]
  },
  {
   "cell_type": "code",
   "execution_count": 27,
   "metadata": {},
   "outputs": [
    {
     "data": {
      "text/plain": [
       "0    6172812\n",
       "1    3764419\n",
       "2    4320530\n",
       "3    1096799\n",
       "4    5722298\n",
       "5    5999244\n",
       "6    4342054\n",
       "7     136097\n",
       "8    2249344\n",
       "9     720353\n",
       "Name: Number of Case, dtype: int64"
      ]
     },
     "execution_count": 27,
     "metadata": {},
     "output_type": "execute_result"
    }
   ],
   "source": [
    "num_of_case"
   ]
  },
  {
   "cell_type": "code",
   "execution_count": 28,
   "metadata": {},
   "outputs": [
    {
     "data": {
      "text/plain": [
       "dtype('int64')"
      ]
     },
     "execution_count": 28,
     "metadata": {},
     "output_type": "execute_result"
    }
   ],
   "source": [
    "num_of_case.dtypes"
   ]
  },
  {
   "cell_type": "code",
   "execution_count": 29,
   "metadata": {},
   "outputs": [
    {
     "data": {
      "text/plain": [
       "array([6172812, 3764419, 4320530, 1096799, 5722298, 5999244, 4342054,\n",
       "        136097, 2249344,  720353], dtype=int64)"
      ]
     },
     "execution_count": 29,
     "metadata": {},
     "output_type": "execute_result"
    }
   ],
   "source": [
    "num_of_case.values"
   ]
  },
  {
   "cell_type": "code",
   "execution_count": 30,
   "metadata": {},
   "outputs": [
    {
     "data": {
      "text/plain": [
       "4320530"
      ]
     },
     "execution_count": 30,
     "metadata": {},
     "output_type": "execute_result"
    }
   ],
   "source": [
    "num_of_case[2]"
   ]
  },
  {
   "cell_type": "code",
   "execution_count": 31,
   "metadata": {},
   "outputs": [
    {
     "data": {
      "text/plain": [
       "RangeIndex(start=0, stop=10, step=1)"
      ]
     },
     "execution_count": 31,
     "metadata": {},
     "output_type": "execute_result"
    }
   ],
   "source": [
    "num_of_case.index"
   ]
  },
  {
   "cell_type": "code",
   "execution_count": 32,
   "metadata": {},
   "outputs": [],
   "source": [
    "num_of_case.index = [\n",
    "    'Russia',\n",
    "    'Germany',\n",
    "    'Italy',\n",
    "    'Swedan',\n",
    "    'United Kingdom',\n",
    "    'France',\n",
    "    'Spain',\n",
    "    'Norway',\n",
    "    'Ukraine',\n",
    "    'Serbia',\n",
    "]"
   ]
  },
  {
   "cell_type": "code",
   "execution_count": 33,
   "metadata": {},
   "outputs": [
    {
     "data": {
      "text/plain": [
       "Russia            6172812\n",
       "Germany           3764419\n",
       "Italy             4320530\n",
       "Swedan            1096799\n",
       "United Kingdom    5722298\n",
       "France            5999244\n",
       "Spain             4342054\n",
       "Norway             136097\n",
       "Ukraine           2249344\n",
       "Serbia             720353\n",
       "Name: Number of Case, dtype: int64"
      ]
     },
     "execution_count": 33,
     "metadata": {},
     "output_type": "execute_result"
    }
   ],
   "source": [
    "num_of_case"
   ]
  },
  {
   "cell_type": "code",
   "execution_count": 34,
   "metadata": {},
   "outputs": [],
   "source": [
    "num_of_deaths = pd.Series([155380, 92050, 127971, 14615, 129172, 111667, 81268, 799, 52876, 7105])"
   ]
  },
  {
   "cell_type": "code",
   "execution_count": 35,
   "metadata": {},
   "outputs": [],
   "source": [
    "num_of_deaths.name = \"Number of Deaths\""
   ]
  },
  {
   "cell_type": "code",
   "execution_count": 36,
   "metadata": {},
   "outputs": [],
   "source": [
    "num_of_deaths.index = [\n",
    "    'Russia',\n",
    "    'Germany',\n",
    "    'Italy',\n",
    "    'Swedan',\n",
    "    'United Kingdom',\n",
    "    'France',\n",
    "    'Spain',\n",
    "    'Norway',\n",
    "    'Ukraine',\n",
    "    'Serbia',\n",
    "]"
   ]
  },
  {
   "cell_type": "code",
   "execution_count": 37,
   "metadata": {},
   "outputs": [
    {
     "data": {
      "text/plain": [
       "Russia            155380\n",
       "Germany            92050\n",
       "Italy             127971\n",
       "Swedan             14615\n",
       "United Kingdom    129172\n",
       "France            111667\n",
       "Spain              81268\n",
       "Norway               799\n",
       "Ukraine            52876\n",
       "Serbia              7105\n",
       "Name: Number of Deaths, dtype: int64"
      ]
     },
     "execution_count": 37,
     "metadata": {},
     "output_type": "execute_result"
    }
   ],
   "source": [
    "num_of_deaths"
   ]
  },
  {
   "cell_type": "code",
   "execution_count": 40,
   "metadata": {},
   "outputs": [
    {
     "data": {
      "text/plain": [
       "Serbia     7105\n",
       "Swedan    14615\n",
       "Name: Number of Deaths, dtype: int64"
      ]
     },
     "execution_count": 40,
     "metadata": {},
     "output_type": "execute_result"
    }
   ],
   "source": [
    "pd.Series(num_of_deaths, index=['Serbia', 'Swedan'])"
   ]
  },
  {
   "cell_type": "code",
   "execution_count": 39,
   "metadata": {},
   "outputs": [
    {
     "data": {
      "text/plain": [
       "Norway             136097\n",
       "United Kingdom    5722298\n",
       "Name: Number of Case, dtype: int64"
      ]
     },
     "execution_count": 39,
     "metadata": {},
     "output_type": "execute_result"
    }
   ],
   "source": [
    "pd.Series(num_of_case, index=['Norway', 'United Kingdom'])"
   ]
  },
  {
   "cell_type": "code",
   "execution_count": 42,
   "metadata": {},
   "outputs": [
    {
     "data": {
      "text/plain": [
       "4320530"
      ]
     },
     "execution_count": 42,
     "metadata": {},
     "output_type": "execute_result"
    }
   ],
   "source": [
    "num_of_case.iloc[2]"
   ]
  },
  {
   "cell_type": "code",
   "execution_count": 43,
   "metadata": {},
   "outputs": [
    {
     "data": {
      "text/plain": [
       "Russia             True\n",
       "Germany            True\n",
       "Italy              True\n",
       "Swedan            False\n",
       "United Kingdom     True\n",
       "France             True\n",
       "Spain              True\n",
       "Norway            False\n",
       "Ukraine           False\n",
       "Serbia            False\n",
       "Name: Number of Case, dtype: bool"
      ]
     },
     "execution_count": 43,
     "metadata": {},
     "output_type": "execute_result"
    }
   ],
   "source": [
    "num_of_case > 3000000"
   ]
  },
  {
   "cell_type": "code",
   "execution_count": 45,
   "metadata": {},
   "outputs": [
    {
     "data": {
      "text/plain": [
       "Russia             True\n",
       "Germany           False\n",
       "Italy              True\n",
       "Swedan            False\n",
       "United Kingdom     True\n",
       "France             True\n",
       "Spain             False\n",
       "Norway            False\n",
       "Ukraine           False\n",
       "Serbia            False\n",
       "Name: Number of Deaths, dtype: bool"
      ]
     },
     "execution_count": 45,
     "metadata": {},
     "output_type": "execute_result"
    }
   ],
   "source": [
    "num_of_deaths > 100000"
   ]
  },
  {
   "cell_type": "code",
   "execution_count": 46,
   "metadata": {},
   "outputs": [
    {
     "data": {
      "text/plain": [
       "3452395.0"
      ]
     },
     "execution_count": 46,
     "metadata": {},
     "output_type": "execute_result"
    }
   ],
   "source": [
    "num_of_case.mean()"
   ]
  },
  {
   "cell_type": "code",
   "execution_count": 47,
   "metadata": {},
   "outputs": [
    {
     "data": {
      "text/plain": [
       "77290.3"
      ]
     },
     "execution_count": 47,
     "metadata": {},
     "output_type": "execute_result"
    }
   ],
   "source": [
    "num_of_deaths.mean()"
   ]
  },
  {
   "cell_type": "code",
   "execution_count": 48,
   "metadata": {},
   "outputs": [],
   "source": [
    "num_of_deaths.iloc[-1] = 1000"
   ]
  },
  {
   "cell_type": "code",
   "execution_count": 49,
   "metadata": {},
   "outputs": [
    {
     "data": {
      "text/plain": [
       "Russia            155380\n",
       "Germany            92050\n",
       "Italy             127971\n",
       "Swedan             14615\n",
       "United Kingdom    129172\n",
       "France            111667\n",
       "Spain              81268\n",
       "Norway               799\n",
       "Ukraine            52876\n",
       "Serbia              1000\n",
       "Name: Number of Deaths, dtype: int64"
      ]
     },
     "execution_count": 49,
     "metadata": {},
     "output_type": "execute_result"
    }
   ],
   "source": [
    "num_of_deaths"
   ]
  },
  {
   "cell_type": "code",
   "execution_count": 50,
   "metadata": {},
   "outputs": [],
   "source": [
    "df = pd.DataFrame({\n",
    "    'Population': [146424729, 84432670, 58787291 , 10545310, 67026292 , 68128000 , 48345223 , 5514042 ,41130432 , 6647003],\n",
    "    'Deaths': [\n",
    "        155380, \n",
    "        92050, \n",
    "        127971, \n",
    "        14615, \n",
    "        129172, \n",
    "        111667, \n",
    "        81268, \n",
    "        799, \n",
    "        52876, \n",
    "        7105,\n",
    "    ],\n",
    "    'Cases': [\n",
    "        6172812, \n",
    "        3764419, \n",
    "        4320530, \n",
    "        1096799, \n",
    "        5722298, \n",
    "        5999244, \n",
    "        4342054, \n",
    "        136097, \n",
    "        2249344, \n",
    "        720353,\n",
    "    ],\n",
    "    'Countries': [\n",
    "    'Russia',\n",
    "    'Germany',\n",
    "    'Italy',\n",
    "    'Swedan',\n",
    "    'United Kingdom',\n",
    "    'France',\n",
    "    'Spain',\n",
    "    'Norway',\n",
    "    'Ukraine',\n",
    "    'Serbia',\n",
    "    ]\n",
    "}, columns=['Population', 'Deaths', 'Cases', 'Countries'])"
   ]
  },
  {
   "cell_type": "code",
   "execution_count": 51,
   "metadata": {},
   "outputs": [
    {
     "data": {
      "text/html": [
       "<div>\n",
       "<style scoped>\n",
       "    .dataframe tbody tr th:only-of-type {\n",
       "        vertical-align: middle;\n",
       "    }\n",
       "\n",
       "    .dataframe tbody tr th {\n",
       "        vertical-align: top;\n",
       "    }\n",
       "\n",
       "    .dataframe thead th {\n",
       "        text-align: right;\n",
       "    }\n",
       "</style>\n",
       "<table border=\"1\" class=\"dataframe\">\n",
       "  <thead>\n",
       "    <tr style=\"text-align: right;\">\n",
       "      <th></th>\n",
       "      <th>Population</th>\n",
       "      <th>Deaths</th>\n",
       "      <th>Cases</th>\n",
       "      <th>Countries</th>\n",
       "    </tr>\n",
       "  </thead>\n",
       "  <tbody>\n",
       "    <tr>\n",
       "      <th>0</th>\n",
       "      <td>146424729</td>\n",
       "      <td>155380</td>\n",
       "      <td>6172812</td>\n",
       "      <td>Russia</td>\n",
       "    </tr>\n",
       "    <tr>\n",
       "      <th>1</th>\n",
       "      <td>84432670</td>\n",
       "      <td>92050</td>\n",
       "      <td>3764419</td>\n",
       "      <td>Germany</td>\n",
       "    </tr>\n",
       "    <tr>\n",
       "      <th>2</th>\n",
       "      <td>58787291</td>\n",
       "      <td>127971</td>\n",
       "      <td>4320530</td>\n",
       "      <td>Italy</td>\n",
       "    </tr>\n",
       "    <tr>\n",
       "      <th>3</th>\n",
       "      <td>10545310</td>\n",
       "      <td>14615</td>\n",
       "      <td>1096799</td>\n",
       "      <td>Swedan</td>\n",
       "    </tr>\n",
       "    <tr>\n",
       "      <th>4</th>\n",
       "      <td>67026292</td>\n",
       "      <td>129172</td>\n",
       "      <td>5722298</td>\n",
       "      <td>United Kingdom</td>\n",
       "    </tr>\n",
       "    <tr>\n",
       "      <th>5</th>\n",
       "      <td>68128000</td>\n",
       "      <td>111667</td>\n",
       "      <td>5999244</td>\n",
       "      <td>France</td>\n",
       "    </tr>\n",
       "    <tr>\n",
       "      <th>6</th>\n",
       "      <td>48345223</td>\n",
       "      <td>81268</td>\n",
       "      <td>4342054</td>\n",
       "      <td>Spain</td>\n",
       "    </tr>\n",
       "    <tr>\n",
       "      <th>7</th>\n",
       "      <td>5514042</td>\n",
       "      <td>799</td>\n",
       "      <td>136097</td>\n",
       "      <td>Norway</td>\n",
       "    </tr>\n",
       "    <tr>\n",
       "      <th>8</th>\n",
       "      <td>41130432</td>\n",
       "      <td>52876</td>\n",
       "      <td>2249344</td>\n",
       "      <td>Ukraine</td>\n",
       "    </tr>\n",
       "    <tr>\n",
       "      <th>9</th>\n",
       "      <td>6647003</td>\n",
       "      <td>7105</td>\n",
       "      <td>720353</td>\n",
       "      <td>Serbia</td>\n",
       "    </tr>\n",
       "  </tbody>\n",
       "</table>\n",
       "</div>"
      ],
      "text/plain": [
       "   Population  Deaths    Cases       Countries\n",
       "0   146424729  155380  6172812          Russia\n",
       "1    84432670   92050  3764419         Germany\n",
       "2    58787291  127971  4320530           Italy\n",
       "3    10545310   14615  1096799          Swedan\n",
       "4    67026292  129172  5722298  United Kingdom\n",
       "5    68128000  111667  5999244          France\n",
       "6    48345223   81268  4342054           Spain\n",
       "7     5514042     799   136097          Norway\n",
       "8    41130432   52876  2249344         Ukraine\n",
       "9     6647003    7105   720353          Serbia"
      ]
     },
     "execution_count": 51,
     "metadata": {},
     "output_type": "execute_result"
    }
   ],
   "source": [
    "df"
   ]
  },
  {
   "cell_type": "code",
   "execution_count": 52,
   "metadata": {},
   "outputs": [
    {
     "data": {
      "text/plain": [
       "RangeIndex(start=0, stop=10, step=1)"
      ]
     },
     "execution_count": 52,
     "metadata": {},
     "output_type": "execute_result"
    }
   ],
   "source": [
    "df.index"
   ]
  },
  {
   "cell_type": "code",
   "execution_count": 53,
   "metadata": {},
   "outputs": [],
   "source": [
    "df.index = [\n",
    "    'Russia',\n",
    "    'Germany',\n",
    "    'Italy',\n",
    "    'Swedan',\n",
    "    'United Kingdom',\n",
    "    'France',\n",
    "    'Spain',\n",
    "    'Norway',\n",
    "    'Ukraine',\n",
    "    'Serbia',\n",
    "    ]\n"
   ]
  },
  {
   "cell_type": "code",
   "execution_count": 55,
   "metadata": {},
   "outputs": [
    {
     "name": "stdout",
     "output_type": "stream",
     "text": [
      "<class 'pandas.core.frame.DataFrame'>\n",
      "Index: 10 entries, Russia to Serbia\n",
      "Data columns (total 4 columns):\n",
      " #   Column      Non-Null Count  Dtype \n",
      "---  ------      --------------  ----- \n",
      " 0   Population  10 non-null     int64 \n",
      " 1   Deaths      10 non-null     int64 \n",
      " 2   Cases       10 non-null     int64 \n",
      " 3   Countries   10 non-null     object\n",
      "dtypes: int64(3), object(1)\n",
      "memory usage: 400.0+ bytes\n"
     ]
    }
   ],
   "source": [
    "df.info()"
   ]
  },
  {
   "cell_type": "code",
   "execution_count": 56,
   "metadata": {},
   "outputs": [
    {
     "data": {
      "text/html": [
       "<div>\n",
       "<style scoped>\n",
       "    .dataframe tbody tr th:only-of-type {\n",
       "        vertical-align: middle;\n",
       "    }\n",
       "\n",
       "    .dataframe tbody tr th {\n",
       "        vertical-align: top;\n",
       "    }\n",
       "\n",
       "    .dataframe thead th {\n",
       "        text-align: right;\n",
       "    }\n",
       "</style>\n",
       "<table border=\"1\" class=\"dataframe\">\n",
       "  <thead>\n",
       "    <tr style=\"text-align: right;\">\n",
       "      <th></th>\n",
       "      <th>Population</th>\n",
       "      <th>Deaths</th>\n",
       "      <th>Cases</th>\n",
       "    </tr>\n",
       "  </thead>\n",
       "  <tbody>\n",
       "    <tr>\n",
       "      <th>count</th>\n",
       "      <td>1.000000e+01</td>\n",
       "      <td>10.000000</td>\n",
       "      <td>1.000000e+01</td>\n",
       "    </tr>\n",
       "    <tr>\n",
       "      <th>mean</th>\n",
       "      <td>5.369810e+07</td>\n",
       "      <td>77290.300000</td>\n",
       "      <td>3.452395e+06</td>\n",
       "    </tr>\n",
       "    <tr>\n",
       "      <th>std</th>\n",
       "      <td>4.286785e+07</td>\n",
       "      <td>55851.808211</td>\n",
       "      <td>2.264218e+06</td>\n",
       "    </tr>\n",
       "    <tr>\n",
       "      <th>min</th>\n",
       "      <td>5.514042e+06</td>\n",
       "      <td>799.000000</td>\n",
       "      <td>1.360970e+05</td>\n",
       "    </tr>\n",
       "    <tr>\n",
       "      <th>25%</th>\n",
       "      <td>1.819159e+07</td>\n",
       "      <td>24180.250000</td>\n",
       "      <td>1.384935e+06</td>\n",
       "    </tr>\n",
       "    <tr>\n",
       "      <th>50%</th>\n",
       "      <td>5.356626e+07</td>\n",
       "      <td>86659.000000</td>\n",
       "      <td>4.042474e+06</td>\n",
       "    </tr>\n",
       "    <tr>\n",
       "      <th>75%</th>\n",
       "      <td>6.785257e+07</td>\n",
       "      <td>123895.000000</td>\n",
       "      <td>5.377237e+06</td>\n",
       "    </tr>\n",
       "    <tr>\n",
       "      <th>max</th>\n",
       "      <td>1.464247e+08</td>\n",
       "      <td>155380.000000</td>\n",
       "      <td>6.172812e+06</td>\n",
       "    </tr>\n",
       "  </tbody>\n",
       "</table>\n",
       "</div>"
      ],
      "text/plain": [
       "         Population         Deaths         Cases\n",
       "count  1.000000e+01      10.000000  1.000000e+01\n",
       "mean   5.369810e+07   77290.300000  3.452395e+06\n",
       "std    4.286785e+07   55851.808211  2.264218e+06\n",
       "min    5.514042e+06     799.000000  1.360970e+05\n",
       "25%    1.819159e+07   24180.250000  1.384935e+06\n",
       "50%    5.356626e+07   86659.000000  4.042474e+06\n",
       "75%    6.785257e+07  123895.000000  5.377237e+06\n",
       "max    1.464247e+08  155380.000000  6.172812e+06"
      ]
     },
     "execution_count": 56,
     "metadata": {},
     "output_type": "execute_result"
    }
   ],
   "source": [
    "df.describe()"
   ]
  },
  {
   "cell_type": "code",
   "execution_count": 57,
   "metadata": {},
   "outputs": [
    {
     "data": {
      "text/plain": [
       "Population    10545310\n",
       "Deaths           14615\n",
       "Cases          1096799\n",
       "Countries       Swedan\n",
       "Name: Swedan, dtype: object"
      ]
     },
     "execution_count": 57,
     "metadata": {},
     "output_type": "execute_result"
    }
   ],
   "source": [
    "df.loc[\"Swedan\"]"
   ]
  },
  {
   "cell_type": "code",
   "execution_count": 59,
   "metadata": {},
   "outputs": [],
   "source": [
    "df = pd.DataFrame({\n",
    "    'Population': [146424729, 84432670, 58787291 , 10545310, 67026292 , 68128000 , 48345223 , 5514042 ,41130432 , 6647003],\n",
    "    'Deaths': [\n",
    "        155380, \n",
    "        92050, \n",
    "        127971, \n",
    "        14615, \n",
    "        129172, \n",
    "        111667, \n",
    "        81268, \n",
    "        799, \n",
    "        52876, \n",
    "        7105,\n",
    "    ],\n",
    "    'Cases': [\n",
    "        6172812, \n",
    "        3764419, \n",
    "        4320530, \n",
    "        1096799, \n",
    "        5722298, \n",
    "        5999244, \n",
    "        4342054, \n",
    "        136097, \n",
    "        2249344, \n",
    "        720353,\n",
    "    ],\n",
    "    'Countries': [\n",
    "    'Russia',\n",
    "    'Germany',\n",
    "    'Italy',\n",
    "    'Swedan',\n",
    "    'United Kingdom',\n",
    "    'France',\n",
    "    'Spain',\n",
    "    'Norway',\n",
    "    'Ukraine',\n",
    "    'Serbia',\n",
    "    ],\n",
    "    'Continent': [\n",
    "    'Europe and Asia',\n",
    "    'Europe',\n",
    "    'Europe',\n",
    "    'Europe',\n",
    "    'Europe',\n",
    "    'Europe',\n",
    "    'Europe',\n",
    "    'Europe',\n",
    "    'Europe',\n",
    "    'Europe',\n",
    "    ]\n",
    "}, columns=['Population', 'Deaths', 'Cases', 'Countries', 'Continent'])"
   ]
  },
  {
   "cell_type": "code",
   "execution_count": 60,
   "metadata": {},
   "outputs": [
    {
     "data": {
      "text/html": [
       "<div>\n",
       "<style scoped>\n",
       "    .dataframe tbody tr th:only-of-type {\n",
       "        vertical-align: middle;\n",
       "    }\n",
       "\n",
       "    .dataframe tbody tr th {\n",
       "        vertical-align: top;\n",
       "    }\n",
       "\n",
       "    .dataframe thead th {\n",
       "        text-align: right;\n",
       "    }\n",
       "</style>\n",
       "<table border=\"1\" class=\"dataframe\">\n",
       "  <thead>\n",
       "    <tr style=\"text-align: right;\">\n",
       "      <th></th>\n",
       "      <th>Population</th>\n",
       "      <th>Deaths</th>\n",
       "      <th>Cases</th>\n",
       "      <th>Countries</th>\n",
       "      <th>Continent</th>\n",
       "    </tr>\n",
       "  </thead>\n",
       "  <tbody>\n",
       "    <tr>\n",
       "      <th>0</th>\n",
       "      <td>146424729</td>\n",
       "      <td>155380</td>\n",
       "      <td>6172812</td>\n",
       "      <td>Russia</td>\n",
       "      <td>Europe and Asia</td>\n",
       "    </tr>\n",
       "    <tr>\n",
       "      <th>1</th>\n",
       "      <td>84432670</td>\n",
       "      <td>92050</td>\n",
       "      <td>3764419</td>\n",
       "      <td>Germany</td>\n",
       "      <td>Europe</td>\n",
       "    </tr>\n",
       "    <tr>\n",
       "      <th>2</th>\n",
       "      <td>58787291</td>\n",
       "      <td>127971</td>\n",
       "      <td>4320530</td>\n",
       "      <td>Italy</td>\n",
       "      <td>Europe</td>\n",
       "    </tr>\n",
       "    <tr>\n",
       "      <th>3</th>\n",
       "      <td>10545310</td>\n",
       "      <td>14615</td>\n",
       "      <td>1096799</td>\n",
       "      <td>Swedan</td>\n",
       "      <td>Europe</td>\n",
       "    </tr>\n",
       "    <tr>\n",
       "      <th>4</th>\n",
       "      <td>67026292</td>\n",
       "      <td>129172</td>\n",
       "      <td>5722298</td>\n",
       "      <td>United Kingdom</td>\n",
       "      <td>Europe</td>\n",
       "    </tr>\n",
       "    <tr>\n",
       "      <th>5</th>\n",
       "      <td>68128000</td>\n",
       "      <td>111667</td>\n",
       "      <td>5999244</td>\n",
       "      <td>France</td>\n",
       "      <td>Europe</td>\n",
       "    </tr>\n",
       "    <tr>\n",
       "      <th>6</th>\n",
       "      <td>48345223</td>\n",
       "      <td>81268</td>\n",
       "      <td>4342054</td>\n",
       "      <td>Spain</td>\n",
       "      <td>Europe</td>\n",
       "    </tr>\n",
       "    <tr>\n",
       "      <th>7</th>\n",
       "      <td>5514042</td>\n",
       "      <td>799</td>\n",
       "      <td>136097</td>\n",
       "      <td>Norway</td>\n",
       "      <td>Europe</td>\n",
       "    </tr>\n",
       "    <tr>\n",
       "      <th>8</th>\n",
       "      <td>41130432</td>\n",
       "      <td>52876</td>\n",
       "      <td>2249344</td>\n",
       "      <td>Ukraine</td>\n",
       "      <td>Europe</td>\n",
       "    </tr>\n",
       "    <tr>\n",
       "      <th>9</th>\n",
       "      <td>6647003</td>\n",
       "      <td>7105</td>\n",
       "      <td>720353</td>\n",
       "      <td>Serbia</td>\n",
       "      <td>Europe</td>\n",
       "    </tr>\n",
       "  </tbody>\n",
       "</table>\n",
       "</div>"
      ],
      "text/plain": [
       "   Population  Deaths    Cases       Countries        Continent\n",
       "0   146424729  155380  6172812          Russia  Europe and Asia\n",
       "1    84432670   92050  3764419         Germany           Europe\n",
       "2    58787291  127971  4320530           Italy           Europe\n",
       "3    10545310   14615  1096799          Swedan           Europe\n",
       "4    67026292  129172  5722298  United Kingdom           Europe\n",
       "5    68128000  111667  5999244          France           Europe\n",
       "6    48345223   81268  4342054           Spain           Europe\n",
       "7     5514042     799   136097          Norway           Europe\n",
       "8    41130432   52876  2249344         Ukraine           Europe\n",
       "9     6647003    7105   720353          Serbia           Europe"
      ]
     },
     "execution_count": 60,
     "metadata": {},
     "output_type": "execute_result"
    }
   ],
   "source": [
    "df"
   ]
  },
  {
   "cell_type": "code",
   "execution_count": 61,
   "metadata": {},
   "outputs": [
    {
     "data": {
      "text/html": [
       "<div>\n",
       "<style scoped>\n",
       "    .dataframe tbody tr th:only-of-type {\n",
       "        vertical-align: middle;\n",
       "    }\n",
       "\n",
       "    .dataframe tbody tr th {\n",
       "        vertical-align: top;\n",
       "    }\n",
       "\n",
       "    .dataframe thead th {\n",
       "        text-align: right;\n",
       "    }\n",
       "</style>\n",
       "<table border=\"1\" class=\"dataframe\">\n",
       "  <thead>\n",
       "    <tr style=\"text-align: right;\">\n",
       "      <th></th>\n",
       "      <th>Population</th>\n",
       "      <th>Deaths</th>\n",
       "      <th>Cases</th>\n",
       "      <th>Countries</th>\n",
       "      <th>Continent</th>\n",
       "    </tr>\n",
       "  </thead>\n",
       "  <tbody>\n",
       "    <tr>\n",
       "      <th>0</th>\n",
       "      <td>146424729</td>\n",
       "      <td>155380</td>\n",
       "      <td>6172812</td>\n",
       "      <td>Russia</td>\n",
       "      <td>Europe and Asia</td>\n",
       "    </tr>\n",
       "    <tr>\n",
       "      <th>1</th>\n",
       "      <td>84432670</td>\n",
       "      <td>92050</td>\n",
       "      <td>3764419</td>\n",
       "      <td>Germany</td>\n",
       "      <td>Europe</td>\n",
       "    </tr>\n",
       "    <tr>\n",
       "      <th>4</th>\n",
       "      <td>67026292</td>\n",
       "      <td>129172</td>\n",
       "      <td>5722298</td>\n",
       "      <td>United Kingdom</td>\n",
       "      <td>Europe</td>\n",
       "    </tr>\n",
       "    <tr>\n",
       "      <th>5</th>\n",
       "      <td>68128000</td>\n",
       "      <td>111667</td>\n",
       "      <td>5999244</td>\n",
       "      <td>France</td>\n",
       "      <td>Europe</td>\n",
       "    </tr>\n",
       "  </tbody>\n",
       "</table>\n",
       "</div>"
      ],
      "text/plain": [
       "   Population  Deaths    Cases       Countries        Continent\n",
       "0   146424729  155380  6172812          Russia  Europe and Asia\n",
       "1    84432670   92050  3764419         Germany           Europe\n",
       "4    67026292  129172  5722298  United Kingdom           Europe\n",
       "5    68128000  111667  5999244          France           Europe"
      ]
     },
     "execution_count": 61,
     "metadata": {},
     "output_type": "execute_result"
    }
   ],
   "source": [
    "df.loc[df['Population'] > 65000000]"
   ]
  },
  {
   "cell_type": "code",
   "execution_count": 65,
   "metadata": {},
   "outputs": [],
   "source": [
    "new_row = pd.Series({\n",
    "    'Population': 85279553,\n",
    "    'Continent': 'Europe',\n",
    "    'Deaths': '50997',\n",
    "    'Cases':'5618417',\n",
    "    'Countries': 'Türkiye'\n",
    "}, name=\"10\"\n",
    ")   "
   ]
  },
  {
   "cell_type": "code",
   "execution_count": 66,
   "metadata": {},
   "outputs": [
    {
     "data": {
      "text/html": [
       "<div>\n",
       "<style scoped>\n",
       "    .dataframe tbody tr th:only-of-type {\n",
       "        vertical-align: middle;\n",
       "    }\n",
       "\n",
       "    .dataframe tbody tr th {\n",
       "        vertical-align: top;\n",
       "    }\n",
       "\n",
       "    .dataframe thead th {\n",
       "        text-align: right;\n",
       "    }\n",
       "</style>\n",
       "<table border=\"1\" class=\"dataframe\">\n",
       "  <thead>\n",
       "    <tr style=\"text-align: right;\">\n",
       "      <th></th>\n",
       "      <th>Population</th>\n",
       "      <th>Deaths</th>\n",
       "      <th>Cases</th>\n",
       "      <th>Countries</th>\n",
       "      <th>Continent</th>\n",
       "    </tr>\n",
       "  </thead>\n",
       "  <tbody>\n",
       "    <tr>\n",
       "      <th>0</th>\n",
       "      <td>146424729</td>\n",
       "      <td>155380</td>\n",
       "      <td>6172812</td>\n",
       "      <td>Russia</td>\n",
       "      <td>Europe and Asia</td>\n",
       "    </tr>\n",
       "    <tr>\n",
       "      <th>1</th>\n",
       "      <td>84432670</td>\n",
       "      <td>92050</td>\n",
       "      <td>3764419</td>\n",
       "      <td>Germany</td>\n",
       "      <td>Europe</td>\n",
       "    </tr>\n",
       "    <tr>\n",
       "      <th>2</th>\n",
       "      <td>58787291</td>\n",
       "      <td>127971</td>\n",
       "      <td>4320530</td>\n",
       "      <td>Italy</td>\n",
       "      <td>Europe</td>\n",
       "    </tr>\n",
       "    <tr>\n",
       "      <th>3</th>\n",
       "      <td>10545310</td>\n",
       "      <td>14615</td>\n",
       "      <td>1096799</td>\n",
       "      <td>Swedan</td>\n",
       "      <td>Europe</td>\n",
       "    </tr>\n",
       "    <tr>\n",
       "      <th>4</th>\n",
       "      <td>67026292</td>\n",
       "      <td>129172</td>\n",
       "      <td>5722298</td>\n",
       "      <td>United Kingdom</td>\n",
       "      <td>Europe</td>\n",
       "    </tr>\n",
       "    <tr>\n",
       "      <th>5</th>\n",
       "      <td>68128000</td>\n",
       "      <td>111667</td>\n",
       "      <td>5999244</td>\n",
       "      <td>France</td>\n",
       "      <td>Europe</td>\n",
       "    </tr>\n",
       "    <tr>\n",
       "      <th>6</th>\n",
       "      <td>48345223</td>\n",
       "      <td>81268</td>\n",
       "      <td>4342054</td>\n",
       "      <td>Spain</td>\n",
       "      <td>Europe</td>\n",
       "    </tr>\n",
       "    <tr>\n",
       "      <th>7</th>\n",
       "      <td>5514042</td>\n",
       "      <td>799</td>\n",
       "      <td>136097</td>\n",
       "      <td>Norway</td>\n",
       "      <td>Europe</td>\n",
       "    </tr>\n",
       "    <tr>\n",
       "      <th>8</th>\n",
       "      <td>41130432</td>\n",
       "      <td>52876</td>\n",
       "      <td>2249344</td>\n",
       "      <td>Ukraine</td>\n",
       "      <td>Europe</td>\n",
       "    </tr>\n",
       "    <tr>\n",
       "      <th>9</th>\n",
       "      <td>6647003</td>\n",
       "      <td>7105</td>\n",
       "      <td>720353</td>\n",
       "      <td>Serbia</td>\n",
       "      <td>Europe</td>\n",
       "    </tr>\n",
       "    <tr>\n",
       "      <th>10</th>\n",
       "      <td>85279553</td>\n",
       "      <td>50997</td>\n",
       "      <td>5618417</td>\n",
       "      <td>Türkiye</td>\n",
       "      <td>Europe</td>\n",
       "    </tr>\n",
       "  </tbody>\n",
       "</table>\n",
       "</div>"
      ],
      "text/plain": [
       "   Population  Deaths    Cases       Countries        Continent\n",
       "0   146424729  155380  6172812          Russia  Europe and Asia\n",
       "1    84432670   92050  3764419         Germany           Europe\n",
       "2    58787291  127971  4320530           Italy           Europe\n",
       "3    10545310   14615  1096799          Swedan           Europe\n",
       "4    67026292  129172  5722298  United Kingdom           Europe\n",
       "5    68128000  111667  5999244          France           Europe\n",
       "6    48345223   81268  4342054           Spain           Europe\n",
       "7     5514042     799   136097          Norway           Europe\n",
       "8    41130432   52876  2249344         Ukraine           Europe\n",
       "9     6647003    7105   720353          Serbia           Europe\n",
       "10   85279553   50997  5618417         Türkiye           Europe"
      ]
     },
     "execution_count": 66,
     "metadata": {},
     "output_type": "execute_result"
    }
   ],
   "source": [
    "pd.concat([df, new_row.to_frame().T], ignore_index=False)"
   ]
  },
  {
   "cell_type": "code",
   "execution_count": 67,
   "metadata": {},
   "outputs": [
    {
     "data": {
      "text/html": [
       "<div>\n",
       "<style scoped>\n",
       "    .dataframe tbody tr th:only-of-type {\n",
       "        vertical-align: middle;\n",
       "    }\n",
       "\n",
       "    .dataframe tbody tr th {\n",
       "        vertical-align: top;\n",
       "    }\n",
       "\n",
       "    .dataframe thead th {\n",
       "        text-align: right;\n",
       "    }\n",
       "</style>\n",
       "<table border=\"1\" class=\"dataframe\">\n",
       "  <thead>\n",
       "    <tr style=\"text-align: right;\">\n",
       "      <th></th>\n",
       "      <th>Population</th>\n",
       "      <th>Deaths</th>\n",
       "      <th>Cases</th>\n",
       "      <th>Countries</th>\n",
       "      <th>Continent</th>\n",
       "    </tr>\n",
       "  </thead>\n",
       "  <tbody>\n",
       "    <tr>\n",
       "      <th>0</th>\n",
       "      <td>146424729</td>\n",
       "      <td>155380</td>\n",
       "      <td>6172812</td>\n",
       "      <td>Russia</td>\n",
       "      <td>Europe and Asia</td>\n",
       "    </tr>\n",
       "    <tr>\n",
       "      <th>1</th>\n",
       "      <td>84432670</td>\n",
       "      <td>92050</td>\n",
       "      <td>3764419</td>\n",
       "      <td>Germany</td>\n",
       "      <td>Europe</td>\n",
       "    </tr>\n",
       "    <tr>\n",
       "      <th>2</th>\n",
       "      <td>58787291</td>\n",
       "      <td>127971</td>\n",
       "      <td>4320530</td>\n",
       "      <td>Italy</td>\n",
       "      <td>Europe</td>\n",
       "    </tr>\n",
       "    <tr>\n",
       "      <th>3</th>\n",
       "      <td>10545310</td>\n",
       "      <td>14615</td>\n",
       "      <td>1096799</td>\n",
       "      <td>Swedan</td>\n",
       "      <td>Europe</td>\n",
       "    </tr>\n",
       "    <tr>\n",
       "      <th>4</th>\n",
       "      <td>67026292</td>\n",
       "      <td>129172</td>\n",
       "      <td>5722298</td>\n",
       "      <td>United Kingdom</td>\n",
       "      <td>Europe</td>\n",
       "    </tr>\n",
       "    <tr>\n",
       "      <th>5</th>\n",
       "      <td>68128000</td>\n",
       "      <td>111667</td>\n",
       "      <td>5999244</td>\n",
       "      <td>France</td>\n",
       "      <td>Europe</td>\n",
       "    </tr>\n",
       "    <tr>\n",
       "      <th>6</th>\n",
       "      <td>48345223</td>\n",
       "      <td>81268</td>\n",
       "      <td>4342054</td>\n",
       "      <td>Spain</td>\n",
       "      <td>Europe</td>\n",
       "    </tr>\n",
       "    <tr>\n",
       "      <th>7</th>\n",
       "      <td>5514042</td>\n",
       "      <td>799</td>\n",
       "      <td>136097</td>\n",
       "      <td>Norway</td>\n",
       "      <td>Europe</td>\n",
       "    </tr>\n",
       "    <tr>\n",
       "      <th>8</th>\n",
       "      <td>41130432</td>\n",
       "      <td>52876</td>\n",
       "      <td>2249344</td>\n",
       "      <td>Ukraine</td>\n",
       "      <td>Europe</td>\n",
       "    </tr>\n",
       "    <tr>\n",
       "      <th>9</th>\n",
       "      <td>6647003</td>\n",
       "      <td>7105</td>\n",
       "      <td>720353</td>\n",
       "      <td>Serbia</td>\n",
       "      <td>Europe</td>\n",
       "    </tr>\n",
       "    <tr>\n",
       "      <th>10</th>\n",
       "      <td>85279553</td>\n",
       "      <td>50997</td>\n",
       "      <td>5618417</td>\n",
       "      <td>Türkiye</td>\n",
       "      <td>Europe</td>\n",
       "    </tr>\n",
       "  </tbody>\n",
       "</table>\n",
       "</div>"
      ],
      "text/plain": [
       "   Population  Deaths    Cases       Countries        Continent\n",
       "0   146424729  155380  6172812          Russia  Europe and Asia\n",
       "1    84432670   92050  3764419         Germany           Europe\n",
       "2    58787291  127971  4320530           Italy           Europe\n",
       "3    10545310   14615  1096799          Swedan           Europe\n",
       "4    67026292  129172  5722298  United Kingdom           Europe\n",
       "5    68128000  111667  5999244          France           Europe\n",
       "6    48345223   81268  4342054           Spain           Europe\n",
       "7     5514042     799   136097          Norway           Europe\n",
       "8    41130432   52876  2249344         Ukraine           Europe\n",
       "9     6647003    7105   720353          Serbia           Europe\n",
       "10   85279553   50997  5618417         Türkiye           Europe"
      ]
     },
     "execution_count": 67,
     "metadata": {},
     "output_type": "execute_result"
    }
   ],
   "source": [
    "pd.concat([df, new_row.to_frame().T], ignore_index=False)"
   ]
  },
  {
   "cell_type": "code",
   "execution_count": null,
   "metadata": {},
   "outputs": [],
   "source": []
  }
 ],
 "metadata": {
  "kernelspec": {
   "display_name": "Python 3",
   "language": "python",
   "name": "python3"
  },
  "language_info": {
   "codemirror_mode": {
    "name": "ipython",
    "version": 3
   },
   "file_extension": ".py",
   "mimetype": "text/x-python",
   "name": "python",
   "nbconvert_exporter": "python",
   "pygments_lexer": "ipython3",
   "version": "3.11.5"
  }
 },
 "nbformat": 4,
 "nbformat_minor": 2
}
